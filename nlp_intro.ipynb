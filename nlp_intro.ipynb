{
 "cells": [
  {
   "cell_type": "markdown",
   "metadata": {},
   "source": [
    "### Real World Applications\n",
    "Contextual Advertisements\n",
    "Email- spam filtering, smart reply\n",
    "Social media- removing adult content, opinion mining\n",
    "Search Engines\n",
    "Chatbots\n",
    " \n",
    "### Common NLP Tasks\n",
    "1) Text/Document Classification\n",
    "2) Sentiment analysis\n",
    "3) Information retrieval \n",
    "4) Part of speech tagging \n",
    "5) Language detection and machine translation\n",
    "6) Conversational agents\n",
    "7) Knowledge graph and QA Systems\n",
    "8) Text summarization\n",
    "9) Topic Modelling\n",
    "10) Text generation\n",
    "11) Spell checking and grammar correction\n",
    "12) Text parsing\n",
    "13) Speech to Text\n",
    "\n",
    "### Approaches to NLP\n",
    "1) Heuristic methods: not optimal but practical, rule based approach. Let us see some examples of using this\n",
    "-->Regular expressions\n",
    "-->Wordnet: lexical dictionary\n",
    "-->Open Mind Common Sense\n",
    "Advantages: quick\n",
    "2) Machine Learning Approach\n",
    "Big advantage yeh hai ki yahan algorithms hoti hai jiske rules data ko dekhkr bnate hain. Textual data ko number mein convert krte hain, fir number ko ML algo mein dekr output dekhte hain\n",
    "-Algorithm used: Naive Bayes, Logistic regression, SVM, LDA, Hidden Markov Models\n",
    "3) Deep Learning Approach\n",
    "Big advantage yeh h ki ML algorithm jo hoti hain usmein algorihtm mein jb textual data ko numbers mein convert krte hain toh sequential information lose ho jaati hai kyuki voh usspr dhyaan nhi deti, but DL mein aisa nahi hai. Dusri yeh cheez hai ki feature generation DL khud krdeta hai.\n",
    "Architecture used: RNN, LSTM, GRU/CNN, Transformers, Autoencoders\n",
    "\n",
    "### Challenges in NLP\n",
    "Ambiguity: I saw the boy on the beach with my binoculars. I have never tasted a cake quite like that one before\n",
    "Contextual words: I RAN to the store because ewe RAN out of milk\n",
    "Colloquialisms and slang: piece of cake, pulling your leg\n",
    "Synonyms\n",
    "Irony, sarcasm and tonal difference: That's just what I needed today\n",
    "Spelling errors\n",
    "Creativity: Poems, dialogue, scripts\n",
    "Diversity \n"
   ]
  },
  {
   "cell_type": "markdown",
   "metadata": {},
   "source": [
    "### NLP Pipeline\n",
    "##### Data Acquisition \n",
    "1) Yahan par yaa toh data availaible hai: direct hai toh use krlo, database mein h toh nikalo  aur agar less data hai toh data augmentation lagao jisme synonym use krlo, bigram flip use krlo(on the road ko the on krdo), back translate(alag language mein krke waapis usi mein krdo) use krlo, additional noise use krlo.\n",
    "2) Available hai prr kahin aur (others) : (public dataset, web scraping-beautiful soup, API, pdf, image, audio).\n",
    "3) Data not available (nobody)\n",
    "\n",
    "##### Text Preparation:\n",
    "Text cleanup, basic preprocessing, advance preprocessing\n",
    "Feature Engineering \n",
    "Modelling: Model Building, Evaluation\n",
    "Deployment: Deployment, Monitoring, Model Update \n",
    "\n",
    "-->It is not universal\n",
    "-->DL pipelines are slightly different\n",
    "-->Pipelines are non-linear\n"
   ]
  }
 ],
 "metadata": {
  "language_info": {
   "name": "python"
  }
 },
 "nbformat": 4,
 "nbformat_minor": 2
}
