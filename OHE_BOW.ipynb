{
 "cells": [
  {
   "cell_type": "markdown",
   "id": "9bc983fc",
   "metadata": {},
   "source": [
    "1. Corpus: combination of all words\n",
    "2. Vocabulary: Unique words which makes the corpus\n",
    "3. Document: Individual set\n",
    "4. Word: "
   ]
  },
  {
   "cell_type": "code",
   "execution_count": 1,
   "id": "0bc5e84c",
   "metadata": {},
   "outputs": [],
   "source": [
    "#One hot encoding\n",
    "#ismein word ko V dimension mein convert krte hain\n",
    "#easy hai yeh aur intuitive hai, lekin isme sparsity hai--> bss ek 1 hai baaki 0 aur isse overfitting hoti hai\n",
    "#zyada  word hoega agr toh shape alag ho jaaega aur fixed size nhi milega jisse ML algo kaam nhi krengi\n",
    "#ab agr input mein alag hee word aagya(OOV)\n",
    "#No capturing of semantic meaning -->zyada dissimilar words bhi equidistant bnn jaate hain\n"
   ]
  },
  {
   "cell_type": "code",
   "execution_count": 2,
   "id": "1381cf62",
   "metadata": {},
   "outputs": [],
   "source": [
    "#Bag of Words --> isme uss word ko dekho current document mein kitni baar aarhe hain\n",
    "import numpy as np\n",
    "import pandas as pd\n",
    "\n"
   ]
  },
  {
   "cell_type": "code",
   "execution_count": 3,
   "id": "e124c727",
   "metadata": {},
   "outputs": [],
   "source": [
    "df=pd.DataFrame({'text':['people watch campusx', 'campusx watch campusx', 'people write comment', 'campusx write comment'],'output':[1,1,0,0]})"
   ]
  },
  {
   "cell_type": "code",
   "execution_count": 4,
   "id": "eac11d39",
   "metadata": {},
   "outputs": [
    {
     "data": {
      "text/html": [
       "<div>\n",
       "<style scoped>\n",
       "    .dataframe tbody tr th:only-of-type {\n",
       "        vertical-align: middle;\n",
       "    }\n",
       "\n",
       "    .dataframe tbody tr th {\n",
       "        vertical-align: top;\n",
       "    }\n",
       "\n",
       "    .dataframe thead th {\n",
       "        text-align: right;\n",
       "    }\n",
       "</style>\n",
       "<table border=\"1\" class=\"dataframe\">\n",
       "  <thead>\n",
       "    <tr style=\"text-align: right;\">\n",
       "      <th></th>\n",
       "      <th>text</th>\n",
       "      <th>output</th>\n",
       "    </tr>\n",
       "  </thead>\n",
       "  <tbody>\n",
       "    <tr>\n",
       "      <th>0</th>\n",
       "      <td>people watch campusx</td>\n",
       "      <td>1</td>\n",
       "    </tr>\n",
       "    <tr>\n",
       "      <th>1</th>\n",
       "      <td>campusx watch campusx</td>\n",
       "      <td>1</td>\n",
       "    </tr>\n",
       "    <tr>\n",
       "      <th>2</th>\n",
       "      <td>people write comment</td>\n",
       "      <td>0</td>\n",
       "    </tr>\n",
       "    <tr>\n",
       "      <th>3</th>\n",
       "      <td>campusx write comment</td>\n",
       "      <td>0</td>\n",
       "    </tr>\n",
       "  </tbody>\n",
       "</table>\n",
       "</div>"
      ],
      "text/plain": [
       "                    text  output\n",
       "0   people watch campusx       1\n",
       "1  campusx watch campusx       1\n",
       "2   people write comment       0\n",
       "3  campusx write comment       0"
      ]
     },
     "execution_count": 4,
     "metadata": {},
     "output_type": "execute_result"
    }
   ],
   "source": [
    "df"
   ]
  },
  {
   "cell_type": "code",
   "execution_count": 5,
   "id": "3e819678",
   "metadata": {},
   "outputs": [],
   "source": [
    "from sklearn.feature_extraction.text import CountVectorizer\n",
    "cv=CountVectorizer()"
   ]
  },
  {
   "cell_type": "code",
   "execution_count": 6,
   "id": "43ed55ba",
   "metadata": {},
   "outputs": [],
   "source": [
    "bow=cv.fit_transform(df['text'])"
   ]
  },
  {
   "cell_type": "code",
   "execution_count": 7,
   "id": "4940bab4",
   "metadata": {},
   "outputs": [
    {
     "name": "stdout",
     "output_type": "stream",
     "text": [
      "{'people': 2, 'watch': 3, 'campusx': 0, 'write': 4, 'comment': 1}\n"
     ]
    }
   ],
   "source": [
    "#vocab\n",
    "print(cv.vocabulary_)"
   ]
  },
  {
   "cell_type": "code",
   "execution_count": 8,
   "id": "f7ac0eae",
   "metadata": {},
   "outputs": [
    {
     "name": "stdout",
     "output_type": "stream",
     "text": [
      "[[1 0 1 1 0]]\n",
      "[[2 0 0 1 0]]\n"
     ]
    }
   ],
   "source": [
    "print(bow[0].toarray())\n",
    "print(bow[1].toarray())"
   ]
  },
  {
   "cell_type": "code",
   "execution_count": null,
   "id": "dc643c6a",
   "metadata": {},
   "outputs": [
    {
     "data": {
      "text/plain": [
       "array([[2, 1, 0, 1, 1]])"
      ]
     },
     "execution_count": 9,
     "metadata": {},
     "output_type": "execute_result"
    }
   ],
   "source": [
    "cv.transform([\"campusx watch and write comment of campusx\"]).toarray() #dekho ismein OOV nahi hua, out of vocab\n",
    "#binary=true se kya hoega agr kisi ki frequency mein 1 se zyada hai toh voh agr 1 se zyada occurrence hoega toh use 1 bna dega\n",
    "\n",
    "# it is simple and intutive \n",
    "# yhan pr fixed size hee rhega\n",
    "# OOV bhi krliya solve\n",
    "# thora sa semantic meaning capture krta hai -DOUBT\n",
    "# Lekin sparsity hai yahan\n",
    "# ab yaha n tum oov ko ignore krde rhe ho\n",
    "# yahan ordering ko bhool jaate hain jisse kaafi baar meaning change ho jata hai\n",
    "# ek sentence mein NOT nahi hai dusre mein sirf ek NOT agya toh bow sochega almost same meaning hai but aisa nahi hai\n",
    "\n",
    "\n"
   ]
  },
  {
   "cell_type": "code",
   "execution_count": null,
   "id": "e7192f54",
   "metadata": {},
   "outputs": [],
   "source": []
  }
 ],
 "metadata": {
  "kernelspec": {
   "display_name": "Python 3",
   "language": "python",
   "name": "python3"
  },
  "language_info": {
   "codemirror_mode": {
    "name": "ipython",
    "version": 3
   },
   "file_extension": ".py",
   "mimetype": "text/x-python",
   "name": "python",
   "nbconvert_exporter": "python",
   "pygments_lexer": "ipython3",
   "version": "3.12.1"
  }
 },
 "nbformat": 4,
 "nbformat_minor": 5
}
